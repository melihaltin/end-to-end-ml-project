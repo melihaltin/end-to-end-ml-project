{
 "cells": [
  {
   "cell_type": "code",
   "execution_count": 1,
   "metadata": {},
   "outputs": [],
   "source": [
    "import os "
   ]
  },
  {
   "cell_type": "code",
   "execution_count": 2,
   "metadata": {},
   "outputs": [
    {
     "data": {
      "text/plain": [
       "'c:\\\\development\\\\Machine-Learning\\\\end-to-end-ml-project\\\\research'"
      ]
     },
     "execution_count": 2,
     "metadata": {},
     "output_type": "execute_result"
    }
   ],
   "source": [
    "%pwd"
   ]
  },
  {
   "cell_type": "code",
   "execution_count": 3,
   "metadata": {},
   "outputs": [],
   "source": [
    "os.chdir('../')"
   ]
  },
  {
   "cell_type": "code",
   "execution_count": 4,
   "metadata": {},
   "outputs": [
    {
     "data": {
      "text/plain": [
       "'c:\\\\development\\\\Machine-Learning\\\\end-to-end-ml-project'"
      ]
     },
     "execution_count": 4,
     "metadata": {},
     "output_type": "execute_result"
    }
   ],
   "source": [
    "%pwd"
   ]
  },
  {
   "cell_type": "code",
   "execution_count": 5,
   "metadata": {},
   "outputs": [],
   "source": [
    "os.environ['MLFLOW_TRACKING_URI'] = 'https://dagshub.com/melihaltin/end-to-end-ml-project.mlflow'\n",
    "os.environ['MLFLOW_TRACKING_USERNAME'] = 'melihaltin'\n",
    "os.environ['MLFLOW_TRACKING_PASSWORD'] = '61b4d7966434a0202f289ca14a1157c66d2b487f'"
   ]
  },
  {
   "cell_type": "code",
   "execution_count": 6,
   "metadata": {},
   "outputs": [],
   "source": [
    "from dataclasses import dataclass\n",
    "from pathlib import Path\n",
    "\n",
    "@dataclass(frozen=True)\n",
    "class ModelEvaluationConfig:\n",
    "    root_dir: Path\n",
    "    X_test_data_path: Path\n",
    "    y_test_data_path: Path\n",
    "    model_path: Path\n",
    "    all_params: dict\n",
    "    metric_file_path: Path\n",
    "    target_column: str\n",
    "    mlflow_uri: str\n",
    "    "
   ]
  },
  {
   "cell_type": "code",
   "execution_count": 7,
   "metadata": {},
   "outputs": [],
   "source": [
    "from ml_project.constants import *\n",
    "from ml_project.utils.common import read_yaml , create_directories, save_json"
   ]
  },
  {
   "cell_type": "code",
   "execution_count": 8,
   "metadata": {},
   "outputs": [
    {
     "data": {
      "text/plain": [
       "WindowsPath('config/config.yaml')"
      ]
     },
     "execution_count": 8,
     "metadata": {},
     "output_type": "execute_result"
    }
   ],
   "source": [
    "CONFIG_FILE_PATH"
   ]
  },
  {
   "cell_type": "code",
   "execution_count": 9,
   "metadata": {},
   "outputs": [],
   "source": [
    "class ConfigurationManager:\n",
    "    def __init__(self, config_filepath= CONFIG_FILE_PATH , params_filepath=PARAMS_FILE_PATH ,schema_filepath=SCHEMA_FILE_PATH ):\n",
    "        self.config = read_yaml(config_filepath)\n",
    "        self.params = read_yaml(params_filepath)\n",
    "        self.schema = read_yaml(schema_filepath)\n",
    "        \n",
    "        create_directories([self.config.artifacts_root])\n",
    "        \n",
    "        \n",
    "    def get_model_evaluation_config(self):\n",
    "        config = self.config.model_evaluation\n",
    "        params = self.params.LGBM\n",
    "        schema = self.schema.TARGET\n",
    "        \n",
    "        create_directories([config.root_dir])\n",
    "        \n",
    "        model_evaluation_config = ModelEvaluationConfig(\n",
    "            root_dir=config.root_dir,\n",
    "            X_test_data_path=Path(config.X_test_data_path),\n",
    "            y_test_data_path=Path(config.y_test_data_path),\n",
    "            model_path=Path(config.model_path),\n",
    "            all_params=params,\n",
    "            metric_file_path=Path(config.metric_file_path),\n",
    "            target_column=schema.y,\n",
    "            mlflow_uri=config.mlflow_uri\n",
    "            \n",
    "        )\n",
    "        \n",
    "        return model_evaluation_config\n",
    "             "
   ]
  },
  {
   "cell_type": "code",
   "execution_count": 10,
   "metadata": {},
   "outputs": [
    {
     "name": "stdout",
     "output_type": "stream",
     "text": [
      "[2024-02-27 10:23:58,067: INFO: utils:  Note: NumExpr detected 12 cores but \"NUMEXPR_MAX_THREADS\" not set, so enforcing safe limit of 8.]\n",
      "[2024-02-27 10:23:58,067: INFO: utils:  NumExpr defaulting to 8 threads.]\n"
     ]
    }
   ],
   "source": [
    "import pandas as pd \n",
    "import mlflow \n",
    "from sklearn.metrics import mean_squared_error, mean_absolute_error, r2_score, accuracy_score\n",
    "from urllib.parse import urlparse\n",
    "import mlflow.sklearn\n",
    "import numpy as np\n",
    "import joblib"
   ]
  },
  {
   "cell_type": "code",
   "execution_count": 21,
   "metadata": {},
   "outputs": [],
   "source": [
    "class ModelEvaluator:\n",
    "    def __init__(self, config: ModelEvaluationConfig):\n",
    "        self.config = config\n",
    "        \n",
    "    def eval_metrics(self, actual, pred):\n",
    "        rmse = np.sqrt(mean_squared_error(actual, pred))\n",
    "        acc = accuracy_score(actual, pred)\n",
    "        mae = mean_absolute_error(actual, pred)\n",
    "        r2 = r2_score(actual, pred)\n",
    "        return rmse, mae, r2, acc\n",
    "    \n",
    "    def log_into_mlflow(self):\n",
    "        mlflow.end_run()\n",
    "        X_test = pd.read_csv(self.config.X_test_data_path)\n",
    "        y_test = pd.read_csv(self.config.y_test_data_path)\n",
    "        \n",
    "        model = joblib.load(self.config.model_path)\n",
    "      \n",
    "        mlflow.set_registry_uri(self.config.mlflow_uri)\n",
    "\n",
    "         \n",
    "        tracking_url_type_store = urlparse(mlflow.get_tracking_uri()).scheme\n",
    "\n",
    "        print(self.config.all_params)\n",
    "        with mlflow.start_run():\n",
    "            prediction_qualities = model.predict(X_test)\n",
    "            (rmse, mae, r2 , acc) = self.eval_metrics(y_test, prediction_qualities)\n",
    "            \n",
    "            scores = {\n",
    "                \"acc\": acc,\n",
    "                \"rmse\": rmse,\n",
    "                \"mae\": mae,\n",
    "                \"r2\": r2\n",
    "            }\n",
    "            \n",
    "            save_json(self.config.metric_file_path, data = scores)\n",
    "            \n",
    "            mlflow.log_params(self.config.all_params)\n",
    "            \n",
    "            \n",
    "            mlflow.log_metrics(scores)\n",
    "            # mlflow.log_metrics('mae', mae)\n",
    "            # mlflow.log_metrics('r2', r2)\n",
    "            \n",
    "            if tracking_url_type_store != \"file\":\n",
    "                mlflow.sklearn.log_model(model, \"model\" , registered_model_name=\"LGBM\")\n",
    "                \n",
    "            else:\n",
    "                mlflow.sklearn.log_model(model, \"model\")        \n",
    "        \n",
    "        "
   ]
  },
  {
   "cell_type": "code",
   "execution_count": 22,
   "metadata": {},
   "outputs": [
    {
     "name": "stdout",
     "output_type": "stream",
     "text": [
      "[2024-02-27 10:35:19,911: INFO: common:  yaml file: config\\config.yaml loaded successfully]\n",
      "[2024-02-27 10:35:19,912: INFO: common:  yaml file: params.yaml loaded successfully]\n",
      "[2024-02-27 10:35:19,914: INFO: common:  yaml file: schema.yaml loaded successfully]\n",
      "[2024-02-27 10:35:19,915: INFO: common:  created directory at: artifacts]\n",
      "[2024-02-27 10:35:19,916: INFO: common:  created directory at: artifacts/model_evaluation]\n"
     ]
    },
    {
     "name": "stderr",
     "output_type": "stream",
     "text": [
      "c:\\Users\\melih\\anaconda3\\envs\\myenv\\Lib\\site-packages\\sklearn\\base.py:347: InconsistentVersionWarning: Trying to unpickle estimator LabelEncoder from version 1.4.1.post1 when using version 1.3.0. This might lead to breaking code or invalid results. Use at your own risk. For more info please refer to:\n",
      "https://scikit-learn.org/stable/model_persistence.html#security-maintainability-limitations\n",
      "  warnings.warn(\n"
     ]
    },
    {
     "name": "stdout",
     "output_type": "stream",
     "text": [
      "{'alpha': 0.9, 'n_estimators': 200, 'learning_rate': 0.15, 'max_depth': 8}\n",
      "[LightGBM] [Warning] Accuracy may be bad since you didn't explicitly set num_leaves OR 2^max_depth > num_leaves. (num_leaves=31).\n",
      "[2024-02-27 10:35:20,667: INFO: common:  json file saved at: artifacts\\model_evaluation\\metrics.json]\n"
     ]
    },
    {
     "name": "stderr",
     "output_type": "stream",
     "text": [
      "Registered model 'LGBM' already exists. Creating a new version of this model...\n",
      "2024/02/27 10:35:27 INFO mlflow.store.model_registry.abstract_store: Waiting up to 300 seconds for model version to finish creation. Model name: LGBM, version 3\n",
      "Created version '3' of model 'LGBM'.\n"
     ]
    }
   ],
   "source": [
    "try:\n",
    "    config = ConfigurationManager().get_model_evaluation_config()\n",
    "    model_evaluator = ModelEvaluator(config)\n",
    "    model_evaluator.log_into_mlflow()\n",
    "except Exception as e:\n",
    "    raise e "
   ]
  },
  {
   "cell_type": "code",
   "execution_count": null,
   "metadata": {},
   "outputs": [],
   "source": []
  }
 ],
 "metadata": {
  "kernelspec": {
   "display_name": "myenv",
   "language": "python",
   "name": "python3"
  },
  "language_info": {
   "codemirror_mode": {
    "name": "ipython",
    "version": 3
   },
   "file_extension": ".py",
   "mimetype": "text/x-python",
   "name": "python",
   "nbconvert_exporter": "python",
   "pygments_lexer": "ipython3",
   "version": "3.11.4"
  }
 },
 "nbformat": 4,
 "nbformat_minor": 2
}
