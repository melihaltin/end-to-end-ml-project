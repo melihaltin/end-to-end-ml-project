{
 "cells": [
  {
   "cell_type": "code",
   "execution_count": 1,
   "metadata": {},
   "outputs": [],
   "source": [
    "import os"
   ]
  },
  {
   "cell_type": "code",
   "execution_count": 2,
   "metadata": {},
   "outputs": [
    {
     "data": {
      "text/plain": [
       "'c:\\\\development\\\\Machine-Learning\\\\end-to-end-ml-project\\\\research'"
      ]
     },
     "execution_count": 2,
     "metadata": {},
     "output_type": "execute_result"
    }
   ],
   "source": [
    "%pwd"
   ]
  },
  {
   "cell_type": "code",
   "execution_count": 3,
   "metadata": {},
   "outputs": [],
   "source": [
    "os.chdir(\"../\")"
   ]
  },
  {
   "cell_type": "code",
   "execution_count": 4,
   "metadata": {},
   "outputs": [
    {
     "data": {
      "text/plain": [
       "'c:\\\\development\\\\Machine-Learning\\\\end-to-end-ml-project'"
      ]
     },
     "execution_count": 4,
     "metadata": {},
     "output_type": "execute_result"
    }
   ],
   "source": [
    "%pwd"
   ]
  },
  {
   "cell_type": "code",
   "execution_count": 5,
   "metadata": {},
   "outputs": [],
   "source": [
    "from dataclasses import dataclass\n",
    "from pathlib import Path\n",
    "\n",
    "\n",
    "@dataclass(frozen=True)\n",
    "class DataTransformationConfig:\n",
    "    root_dir: Path\n",
    "    data_path: Path"
   ]
  },
  {
   "cell_type": "code",
   "execution_count": 6,
   "metadata": {},
   "outputs": [],
   "source": [
    "from ml_project.constants import *\n",
    "from ml_project.utils.common import read_yaml, create_directories"
   ]
  },
  {
   "cell_type": "code",
   "execution_count": 7,
   "metadata": {},
   "outputs": [],
   "source": [
    "class ConfigurationManager:\n",
    "    def __init__(\n",
    "        self,\n",
    "        config_filepath = CONFIG_FILE_PATH,\n",
    "        params_filepath = PARAMS_FILE_PATH,\n",
    "        schema_filepath = SCHEMA_FILE_PATH):\n",
    "\n",
    "        self.config = read_yaml(config_filepath)\n",
    "        self.params = read_yaml(params_filepath)\n",
    "        self.schema = read_yaml(schema_filepath)\n",
    "\n",
    "        create_directories([self.config.artifacts_root])\n",
    "\n",
    "\n",
    "    \n",
    "    def get_data_transformation_config(self) -> DataTransformationConfig:\n",
    "        config = self.config.data_transformation\n",
    "\n",
    "        create_directories([config.root_dir])\n",
    "\n",
    "        data_transformation_config = DataTransformationConfig(\n",
    "            root_dir=config.root_dir,\n",
    "            data_path=config.data_path,\n",
    "        )\n",
    "\n",
    "        return data_transformation_config"
   ]
  },
  {
   "cell_type": "code",
   "execution_count": 10,
   "metadata": {},
   "outputs": [],
   "source": [
    "from ml_project import logger\n",
    "from sklearn.model_selection import train_test_split\n",
    "from sklearn.preprocessing import StandardScaler, LabelEncoder\n",
    "\n",
    "import pandas as pd\n"
   ]
  },
  {
   "cell_type": "code",
   "execution_count": 30,
   "metadata": {},
   "outputs": [],
   "source": [
    "class DataTransformation:\n",
    "\n",
    "    def __init__(self, config: DataTransformationConfig):\n",
    "        self.config = config\n",
    "        self.df = pd.read_csv(self.config.data_path , sep=';')\n",
    "\n",
    "    def binary_encoding(df, columns, positive_value):\n",
    "        for col in columns:\n",
    "            df[col] = df[col].apply(lambda x: 1 if x == positive_value else 0)\n",
    "        return df     \n",
    "\n",
    "    def month_transformer(self) -> pd.DataFrame:\n",
    "        # print(self.df.columns)\n",
    "        month_mapping = {\n",
    "            'jan': 1,\n",
    "            'feb': 2,\n",
    "            'mar': 3,\n",
    "            'apr': 4,\n",
    "            'may': 5,\n",
    "            'jun': 6,\n",
    "            'jul': 7,\n",
    "            'aug': 8,\n",
    "            'sep': 9,\n",
    "            'oct': 10,\n",
    "            'nov': 11,\n",
    "            'dec': 12\n",
    "        }\n",
    "        self.df['month'] = self.df['month'].str.lower()\n",
    "        self.df.month = self.df.month.map(month_mapping)\n",
    "\n",
    "        self.df.day = self.df.day.astype(str).str.zfill(2)\n",
    "        self.df.month = self.df.month.astype(str).str.zfill(2)\n",
    "\n",
    "        self.df['date'] = self.df.day + '-' + self.df.month\n",
    "\n",
    "        self.df['date_month'] = pd.to_datetime('2024-' + self.df['date'], format='%Y-%d-%m', errors='coerce')\\\n",
    "                            .dt.strftime('%d-%m')\n",
    "\n",
    "        self.df.drop(['date', 'day', 'month'], axis=1, inplace=True)\n",
    "        \n",
    "        \n",
    "    def age_transformer(self) -> pd.DataFrame:\n",
    "        blanks = []\n",
    "        \n",
    "        for age in self.df['age']:\n",
    "            if 18 <= age <= 30:\n",
    "                blanks.append('18-30')\n",
    "            elif 31 <= age <= 40:\n",
    "                blanks.append('31-40')\n",
    "            elif 41 <= age <= 50:\n",
    "                blanks.append('41-50')\n",
    "            elif 51 <= age <= 60:\n",
    "                blanks.append('51-60')\n",
    "            elif 61 <= age <= 70:\n",
    "                blanks.append('61-70')\n",
    "            elif 71 <= age <= 80:\n",
    "                blanks.append('71-80')\n",
    "            elif 81 <= age <= 90:\n",
    "                blanks.append('81-90')\n",
    "            elif 91 <= age <= 95:\n",
    "                blanks.append('91-95')\n",
    "            else:\n",
    "                blanks.append('Unknown')\n",
    "                \n",
    "        self.df['age_group'] = blanks   \n",
    "        self.df.drop('age', axis=1, inplace=True)\n",
    "        \n",
    "        \n",
    "    \n",
    "        \n",
    "\n",
    "    def binary(self):\n",
    "        def binary_encoding(df, columns, positive_value):\n",
    "            for col in columns:\n",
    "                df[col] = df[col].apply(lambda x: 1 if x == positive_value else 0)\n",
    "            return df \n",
    "        binary_columns = ['default', 'housing', 'loan', 'y']\n",
    "        self.df = binary_encoding(self.df, binary_columns, 'yes')\n",
    "        \n",
    "    \n",
    "    def categorical_encoding(self):\n",
    "        \n",
    "        one_hot_columns = ['job', 'marital', 'education', 'contact', 'poutcome']\n",
    "        label_columns = ['age_group' , 'date_month'] \n",
    "        \n",
    "        pd.get_dummies(self.df, columns=one_hot_columns, drop_first=True)\n",
    "        \n",
    "        le = LabelEncoder()\n",
    "        for col in label_columns:\n",
    "            self.df[col] = le.fit_transform(self.df[col])\n",
    "    \n",
    "    \n",
    "    def scaling(self):\n",
    "        scaler = StandardScaler()\n",
    "        continuous_features = self.df[[col for col in self.df.columns if self.df[col].dtype != 'object']]\n",
    "        self.df[continuous_features.columns] = scaler.fit_transform(continuous_features)\n",
    "    \n",
    "    \n",
    "    \n",
    "    def train_test_split(self):\n",
    "        X = self.df.drop('y', axis=1)\n",
    "        y = self.df['y']\n",
    "        X_train, X_test, y_train, y_test = train_test_split(X, y, test_size=0.2, random_state=42)\n",
    "        logger.info(\"Splited data into training and test sets\")\n",
    "        logger.info(X_train.shape)\n",
    "        logger.info(y_train.shape)\n",
    "        X_train.to_csv(os.path.join(self.config.root_dir, \"X_train.csv\"),index = False)\n",
    "        X_test.to_csv(os.path.join(self.config.root_dir, \"X_test.csv\"),index = False)\n",
    "        y_train.to_csv(os.path.join(self.config.root_dir, \"y_train.csv\"),index = False)\n",
    "        y_test.to_csv(os.path.join(self.config.root_dir, \"y_test.csv\"),index = False)\n",
    "\n",
    "        return X_train, X_test, y_train, y_test\n",
    "    \n",
    "    def transform(self):\n",
    "        self.month_transformer()\n",
    "        self.age_transformer()\n",
    "        self.binary()\n",
    "        self.categorical_encoding()\n",
    "        self.scaling()\n",
    "        return self.train_test_split()    \n",
    "        \n",
    "            \n",
    "        \n",
    "    "
   ]
  },
  {
   "cell_type": "code",
   "execution_count": 31,
   "metadata": {},
   "outputs": [
    {
     "name": "stdout",
     "output_type": "stream",
     "text": [
      "[2024-02-24 16:48:42,754: INFO: common:  yaml file: config\\config.yaml loaded successfully]\n",
      "[2024-02-24 16:48:42,756: INFO: common:  yaml file: params.yaml loaded successfully]\n",
      "[2024-02-24 16:48:42,756: INFO: common:  yaml file: schema.yaml loaded successfully]\n",
      "[2024-02-24 16:48:42,756: INFO: common:  created directory at: artifacts]\n",
      "[2024-02-24 16:48:42,756: INFO: common:  created directory at: artifacts/data_transformation]\n",
      "[2024-02-24 16:48:43,181: INFO: 2471170003:  Splited data into training and test sets]\n",
      "[2024-02-24 16:48:43,182: INFO: 2471170003:  (36168, 15)]\n",
      "[2024-02-24 16:48:43,182: INFO: 2471170003:  (36168,)]\n"
     ]
    }
   ],
   "source": [
    "try:\n",
    "    config = ConfigurationManager()\n",
    "    data_transformation_config = config.get_data_transformation_config()\n",
    "    data_transformation = DataTransformation(config=data_transformation_config)\n",
    "    data_transformation.transform()\n",
    "except Exception as e:\n",
    "    raise e"
   ]
  },
  {
   "cell_type": "code",
   "execution_count": null,
   "metadata": {},
   "outputs": [],
   "source": []
  }
 ],
 "metadata": {
  "kernelspec": {
   "display_name": "myenv",
   "language": "python",
   "name": "python3"
  },
  "language_info": {
   "codemirror_mode": {
    "name": "ipython",
    "version": 3
   },
   "file_extension": ".py",
   "mimetype": "text/x-python",
   "name": "python",
   "nbconvert_exporter": "python",
   "pygments_lexer": "ipython3",
   "version": "3.11.4"
  }
 },
 "nbformat": 4,
 "nbformat_minor": 2
}
